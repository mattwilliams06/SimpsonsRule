{
  "nbformat": 4,
  "nbformat_minor": 0,
  "metadata": {
    "colab": {
      "name": "SimpsonsRuleDemo.ipynb",
      "provenance": [],
      "authorship_tag": "ABX9TyMoVE6X8bkYNMd2HJ1bNQlZ",
      "include_colab_link": true
    },
    "kernelspec": {
      "name": "python3",
      "display_name": "Python 3"
    }
  },
  "cells": [
    {
      "cell_type": "markdown",
      "metadata": {
        "id": "view-in-github",
        "colab_type": "text"
      },
      "source": [
        "<a href=\"https://colab.research.google.com/github/mattwilliams06/SimpsonsRule/blob/master/SimpsonsRuleDemo.ipynb\" target=\"_parent\"><img src=\"https://colab.research.google.com/assets/colab-badge.svg\" alt=\"Open In Colab\"/></a>"
      ]
    },
    {
      "cell_type": "markdown",
      "metadata": {
        "id": "0h9M98qsPhli",
        "colab_type": "text"
      },
      "source": [
        "Simpson's Rule is a numerical integration technique that effectively reduces an integration to a linear equation. The general form of Simpson's Rule is:\n",
        "\n",
        "$ S_n = \\frac{\\Delta x}{3}(f(x_1) + 4f(x_2) + 2f(x_3) + ... + 4f(x_{n-1}) + f(x_n)) $\n",
        "\n",
        "The 4, 2, 4, 2... pattern for the interior points repeats. For Simpson's rule to work properly, the domain must be divided into an even number of intervals, that is $ (N-1) \\% 2 = 0 $ where $\\%$ is the modulo operator, and $N$ is the number of points in the domain. The pattern 1, 4, 2, ..., 2, 4, 1 comes from the Simpson's multipliers, which are 1, 4, 1. In the derivation of Simpson's Rule, as an example, the first three points, $f(x_1)$, $f(x_2)$, and $f(x_3)$ are multiplied by 1, 4, and 1 respectively. This is added to 1, 4, 1 multiplied by $f(x_3)$, $f(x_4)$, and $f(x_5)$. You can see that $f(x_3)$ is repeated in the sum, with multiplier one. This is true of each interior end point when all the points are grouped by 3's. Therefore, every interior point that has a multiplier of 1 appears twice. Each point with a multiplier of 4 appears once. This leads to the 1, 4, 2, 4... pattern.\n",
        "\n",
        "This is important to point out for transforming Simpson's Rule into code. Creating the pattern from its components of 1, 4, 1 is easier than attempting to create the entire pattern based on the length of the domain.\n",
        "\n",
        "We will begin by first importing the NumPy library, which will aid in the creation of arrays."
      ]
    },
    {
      "cell_type": "code",
      "metadata": {
        "id": "MP7-q3RiPw8f",
        "colab_type": "code",
        "colab": {}
      },
      "source": [
        "import numpy as np"
      ],
      "execution_count": 0,
      "outputs": []
    },
    {
      "cell_type": "markdown",
      "metadata": {
        "id": "X65Lk1X9Stjy",
        "colab_type": "text"
      },
      "source": [
        "As is customary with the Python development world, the NumPy library is imported under the alias \"np\" to make the code more readable.\n",
        "\n",
        "At the end of this tutorial, we will assemble everything we've done into one function. But for now, let's create mini-functions to demonstrate the code and do what we want.\n",
        "\n",
        "The first thing that we must do is ensure that the domain is divided into an even number of intervals. Let's first create an array by dividing the interval [0, 1] into 10."
      ]
    },
    {
      "cell_type": "code",
      "metadata": {
        "id": "-TRZSHA5StAF",
        "colab_type": "code",
        "colab": {}
      },
      "source": [
        "h = 0.1\n",
        "x = np.arange(0., 1.+h, h)"
      ],
      "execution_count": 0,
      "outputs": []
    },
    {
      "cell_type": "code",
      "metadata": {
        "id": "dODuRrb2T1Kz",
        "colab_type": "code",
        "colab": {
          "base_uri": "https://localhost:8080/",
          "height": 34
        },
        "outputId": "6ed2779f-b2ca-4db5-b6c3-9519090d6fdc"
      },
      "source": [
        "x"
      ],
      "execution_count": 3,
      "outputs": [
        {
          "output_type": "execute_result",
          "data": {
            "text/plain": [
              "array([0. , 0.1, 0.2, 0.3, 0.4, 0.5, 0.6, 0.7, 0.8, 0.9, 1. ])"
            ]
          },
          "metadata": {
            "tags": []
          },
          "execution_count": 3
        }
      ]
    },
    {
      "cell_type": "markdown",
      "metadata": {
        "id": "mg2JlOZvUE6Q",
        "colab_type": "text"
      },
      "source": [
        "The ```arange()``` function takes the interval between the first two specified points and divides it into intervals of length h (here, 0.1). I added h to 1 at the end because ```arange()``` is exclusive at the right endpoint. Notice how x stops at 1 and not 1.1.\n",
        "\n",
        "We want to check if the user's input array is contains an odd-number of points, or an even number of intervals. Let's convert x into points from a function (perhaps a set of offsets in Naval Architecture terms). Let's use $f(x) = y^3$ for illustration purposes. We will take advantage of Python's vectorized operations by just cubing all the points in x:"
      ]
    },
    {
      "cell_type": "code",
      "metadata": {
        "id": "q9MKrC4zUC-T",
        "colab_type": "code",
        "colab": {
          "base_uri": "https://localhost:8080/",
          "height": 51
        },
        "outputId": "838bb01b-225f-4e5a-a4b1-4f23b697dc60"
      },
      "source": [
        "y = x**3\n",
        "y"
      ],
      "execution_count": 4,
      "outputs": [
        {
          "output_type": "execute_result",
          "data": {
            "text/plain": [
              "array([0.   , 0.001, 0.008, 0.027, 0.064, 0.125, 0.216, 0.343, 0.512,\n",
              "       0.729, 1.   ])"
            ]
          },
          "metadata": {
            "tags": []
          },
          "execution_count": 4
        }
      ]
    },
    {
      "cell_type": "markdown",
      "metadata": {
        "id": "ceJlEe1dVtFZ",
        "colab_type": "text"
      },
      "source": [
        "Let's write a function to check if the input is divided into an even number of intervals:"
      ]
    },
    {
      "cell_type": "code",
      "metadata": {
        "id": "ZBx0jZ6GVpxX",
        "colab_type": "code",
        "colab": {}
      },
      "source": [
        "def check_length(x):\n",
        "  l = len(x) - 1\n",
        "  if l % 2 == 0:\n",
        "    print(\"Simpson's Rule may be used\")\n",
        "  else:\n",
        "    print(\"Odd-number of intervals. Please input an array with an even number of intervals\")"
      ],
      "execution_count": 0,
      "outputs": []
    },
    {
      "cell_type": "markdown",
      "metadata": {
        "id": "roUSdSagWJqb",
        "colab_type": "text"
      },
      "source": [
        "To check whether or not Simpson's Rule can be used with our array, let's call check_length on y:"
      ]
    },
    {
      "cell_type": "code",
      "metadata": {
        "id": "SKs2JmZ2WInE",
        "colab_type": "code",
        "colab": {
          "base_uri": "https://localhost:8080/",
          "height": 34
        },
        "outputId": "aa00cc5d-88e0-40d5-e4d6-1f7878dfb251"
      },
      "source": [
        "check_length(y)"
      ],
      "execution_count": 6,
      "outputs": [
        {
          "output_type": "stream",
          "text": [
            "Simpson's Rule may be used\n"
          ],
          "name": "stdout"
        }
      ]
    },
    {
      "cell_type": "markdown",
      "metadata": {
        "id": "sK1B-PnvWa4a",
        "colab_type": "text"
      },
      "source": [
        "It passed the test (by design). In the function later, this test will be used to determine whether the program may continue, or break and return the error message to the user.\n",
        "\n",
        "Of course, we could always ask the user to pass the interval length to us, or we can calculate it ourselves. Simpson's Rule can be applied to intervals that do not have a constant spacing, and I address this in a class method in my GitHub repo for Simpson's Rule, but it requires more input from the user, so for now we will assume a constant interval spacing.\n",
        "\n",
        "Let's write a function to compute the interval spacing and return it by dividing the total interval by the number of intervals. Remember, there are 11 points, but 10 intervals. We do need the user to tell us how long the total interval is. Remember, we only have the function points in y. Alternatively, we could also have the array x, which is where each y point corresponds to.\n",
        "\n",
        "Let's do the case where the user tells us the length:"
      ]
    },
    {
      "cell_type": "code",
      "metadata": {
        "id": "rk8kAiLnWZib",
        "colab_type": "code",
        "colab": {}
      },
      "source": [
        "def calc_interval(y, L):\n",
        "  l = L / (len(x) - 1)\n",
        "  return l"
      ],
      "execution_count": 0,
      "outputs": []
    },
    {
      "cell_type": "code",
      "metadata": {
        "id": "IItwYlwIdZQb",
        "colab_type": "code",
        "colab": {
          "base_uri": "https://localhost:8080/",
          "height": 34
        },
        "outputId": "067fed5c-2932-4b8e-dd9e-58302aa6c214"
      },
      "source": [
        "calc_interval(y, 1.)"
      ],
      "execution_count": 8,
      "outputs": [
        {
          "output_type": "execute_result",
          "data": {
            "text/plain": [
              "0.1"
            ]
          },
          "metadata": {
            "tags": []
          },
          "execution_count": 8
        }
      ]
    },
    {
      "cell_type": "markdown",
      "metadata": {
        "id": "6gzVA_uHddY2",
        "colab_type": "text"
      },
      "source": [
        "We can see the function correctly computed the interval. \n",
        "\n",
        "We now need to determine how many \"sets\" of the Simpson's multipliers ```[1, 4, 1]``` we will need, but we want the program to be nimble enough to be able to correctly perform this computation for any input.\n",
        "\n",
        "You can see that with an overlap of two values per each interior node, in our particular problem, there are 5 groups of points corresponding to 5 sets of Simpson's multipliers. Grouping the points, they are [$f(x_1)$, $f(x_2)$, $f(x_3)$], [$f(x_3)$, $f(x_4)$, $f(x_5)$], [$f(x_5)$, $f(x_6)$, $f(x_7)$], [$f(x_7)$, $f(x_8)$, $f(x_9)$], and [$f(x_9)$, $f(x_{10})$, $f(x_{11})$]. If we were to add another 2 points, we would need a 6th grouping, and so on. In general, the number of groupings is equal to the number of intervals divided by two. In out example, there are 10 intervals, so we need 5 groupings. \n",
        "\n",
        "To create a one-dimensional array of the appropriate Simpson's multipliers, we will begin with a two-dimensional array of zeros, one row per grouping and one column per data point. In our example, this will be a 5x11 array. We will then fill the array in the proper positions with the ```[1, 4, 1]``` multipliters in each row. Then, if we collapse the array across the rows, this will create the proper pattern.\n",
        "\n",
        "We will first instantiate an array of zeros using the proper number of rows and columns. We'll write a function to do so:"
      ]
    },
    {
      "cell_type": "code",
      "metadata": {
        "id": "ri_nS30fdcEy",
        "colab_type": "code",
        "colab": {}
      },
      "source": [
        "def create_array(x):\n",
        "  n_cols = len(x)               # Number of points\n",
        "  n_rows = (n_cols - 1) // 2    # Number of intervals, integer division by 2\n",
        "  mat = np.zeros((n_rows, n_cols))\n",
        "  return mat"
      ],
      "execution_count": 0,
      "outputs": []
    },
    {
      "cell_type": "code",
      "metadata": {
        "id": "OmyO-Apwq2VK",
        "colab_type": "code",
        "colab": {
          "base_uri": "https://localhost:8080/",
          "height": 102
        },
        "outputId": "8f72c376-f936-4337-e4ae-5badc55d617e"
      },
      "source": [
        "simps = create_array(x)\n",
        "simps"
      ],
      "execution_count": 10,
      "outputs": [
        {
          "output_type": "execute_result",
          "data": {
            "text/plain": [
              "array([[0., 0., 0., 0., 0., 0., 0., 0., 0., 0., 0.],\n",
              "       [0., 0., 0., 0., 0., 0., 0., 0., 0., 0., 0.],\n",
              "       [0., 0., 0., 0., 0., 0., 0., 0., 0., 0., 0.],\n",
              "       [0., 0., 0., 0., 0., 0., 0., 0., 0., 0., 0.],\n",
              "       [0., 0., 0., 0., 0., 0., 0., 0., 0., 0., 0.]])"
            ]
          },
          "metadata": {
            "tags": []
          },
          "execution_count": 10
        }
      ]
    },
    {
      "cell_type": "markdown",
      "metadata": {
        "id": "d3wy5zN7rAr7",
        "colab_type": "text"
      },
      "source": [
        "This function works as expected. Now, let us fill the array with the multipliers using the proper overlaps. We can iterate down the rows in a ```for``` loop, and iterate down the columns in a nested ```for``` loop. In each row, the starting column is the row index * 2. For example, in the first row, the starting column is $0*2= 0$. Recall that Python indexing begins at zero. In the second row, the beginning column will be $2*1=2$.\n",
        "\n",
        "Let's create a function to do this. We can call ```create_array()``` within this function to get the matrix of zeros first. Then, our function can figure out the number of rows and columns by calling the ```shape``` attribute of the returned array. For example, the shape of the array ```simps``` is:"
      ]
    },
    {
      "cell_type": "code",
      "metadata": {
        "id": "R0jgcaEls5FQ",
        "colab_type": "code",
        "colab": {
          "base_uri": "https://localhost:8080/",
          "height": 34
        },
        "outputId": "a96ac5b3-71c7-48e3-f64d-18b6a0502fb3"
      },
      "source": [
        "simps.shape"
      ],
      "execution_count": 11,
      "outputs": [
        {
          "output_type": "execute_result",
          "data": {
            "text/plain": [
              "(5, 11)"
            ]
          },
          "metadata": {
            "tags": []
          },
          "execution_count": 11
        }
      ]
    },
    {
      "cell_type": "markdown",
      "metadata": {
        "id": "Rs8Qg8WNs7xW",
        "colab_type": "text"
      },
      "source": [
        "We can see that it is a 5x11 array. To get the number of rows specifically, we can call the first element of the shape:"
      ]
    },
    {
      "cell_type": "code",
      "metadata": {
        "id": "NThiJRgZtDIy",
        "colab_type": "code",
        "colab": {
          "base_uri": "https://localhost:8080/",
          "height": 34
        },
        "outputId": "241c9a12-cbab-4fcd-ec6e-8fc7d86cf638"
      },
      "source": [
        "simps.shape[0]"
      ],
      "execution_count": 12,
      "outputs": [
        {
          "output_type": "execute_result",
          "data": {
            "text/plain": [
              "5"
            ]
          },
          "metadata": {
            "tags": []
          },
          "execution_count": 12
        }
      ]
    },
    {
      "cell_type": "markdown",
      "metadata": {
        "id": "nQ0MIJ_9tFru",
        "colab_type": "text"
      },
      "source": [
        "We will leverage this to get the number of rows and columns without \"hard-coding\". We will also set the values in the zeros matrix by using the index notation ```array[row, column]```."
      ]
    },
    {
      "cell_type": "code",
      "metadata": {
        "id": "XR4AIWf4q9kX",
        "colab_type": "code",
        "colab": {}
      },
      "source": [
        "def mult_array(x, func):\n",
        "  mults = np.array([1., 4., 1.])\n",
        "  zero_array = func(x)\n",
        "  for i in range(zero_array.shape[0]):\n",
        "    for j in range(mults.shape[0]):\n",
        "      zero_array[i, 2*i+j] = mults[j]\n",
        "  return zero_array"
      ],
      "execution_count": 0,
      "outputs": []
    },
    {
      "cell_type": "code",
      "metadata": {
        "id": "yMYxcOvUtutL",
        "colab_type": "code",
        "colab": {
          "base_uri": "https://localhost:8080/",
          "height": 102
        },
        "outputId": "ca730fb8-ea2c-43ec-ee57-9298ffa9d0fd"
      },
      "source": [
        "mult_array(x, create_array)"
      ],
      "execution_count": 14,
      "outputs": [
        {
          "output_type": "execute_result",
          "data": {
            "text/plain": [
              "array([[1., 4., 1., 0., 0., 0., 0., 0., 0., 0., 0.],\n",
              "       [0., 0., 1., 4., 1., 0., 0., 0., 0., 0., 0.],\n",
              "       [0., 0., 0., 0., 1., 4., 1., 0., 0., 0., 0.],\n",
              "       [0., 0., 0., 0., 0., 0., 1., 4., 1., 0., 0.],\n",
              "       [0., 0., 0., 0., 0., 0., 0., 0., 1., 4., 1.]])"
            ]
          },
          "metadata": {
            "tags": []
          },
          "execution_count": 14
        }
      ]
    },
    {
      "cell_type": "markdown",
      "metadata": {
        "id": "Jrv2pphLuFMC",
        "colab_type": "text"
      },
      "source": [
        "You can see I created an argument in ```mult_array()``` to pass in a function. The result is what we want: The ```[1, 4, 1]``` multipliers at each associated group of points, and zeroes everywhere else. In order to get the 1D array of multipliers in the pattern ```[1, 4, 2, 4, ... 4, 2, 1]```, we will collapse this array by summing along axis zero, which is down the columns. Let's modify ```mult_array()``` to do this."
      ]
    },
    {
      "cell_type": "code",
      "metadata": {
        "id": "diVpRKIpt3hF",
        "colab_type": "code",
        "colab": {}
      },
      "source": [
        "def mult_array(x, func):\n",
        "  mults = np.array([1., 4., 1.])\n",
        "  zero_array = func(x)\n",
        "  for i in range(zero_array.shape[0]):\n",
        "    for j in range(mults.shape[0]):\n",
        "      zero_array[i, 2*i+j] = mults[j]\n",
        "  simps_mults = zero_array.sum(axis=0)\n",
        "  return simps_mults"
      ],
      "execution_count": 0,
      "outputs": []
    },
    {
      "cell_type": "code",
      "metadata": {
        "id": "CuKVNZKQuzYI",
        "colab_type": "code",
        "colab": {
          "base_uri": "https://localhost:8080/",
          "height": 34
        },
        "outputId": "e886617f-a038-400d-f390-8e41c44ee515"
      },
      "source": [
        "mult_array(x, create_array)"
      ],
      "execution_count": 16,
      "outputs": [
        {
          "output_type": "execute_result",
          "data": {
            "text/plain": [
              "array([1., 4., 2., 4., 2., 4., 2., 4., 2., 4., 1.])"
            ]
          },
          "metadata": {
            "tags": []
          },
          "execution_count": 16
        }
      ]
    },
    {
      "cell_type": "markdown",
      "metadata": {
        "id": "-EnDXOI1u-RM",
        "colab_type": "text"
      },
      "source": [
        "Now, to put it all together, we need to multiply each point by its appropriate Simpson's multiplier, sum them all together, and multiply by $\\frac{\\Delta x}{3}$ as shown in the equation for $S_n$. We can again take advantage of Python's vectorized operations and not worry about using a loop to do this."
      ]
    },
    {
      "cell_type": "code",
      "metadata": {
        "id": "WP2mB1Alu4ev",
        "colab_type": "code",
        "colab": {}
      },
      "source": [
        "def calc_integral(h, points, mults):\n",
        "  return h/3 * np.sum(points*mults)"
      ],
      "execution_count": 0,
      "outputs": []
    },
    {
      "cell_type": "code",
      "metadata": {
        "id": "ZCUg5IDKv4Fu",
        "colab_type": "code",
        "colab": {
          "base_uri": "https://localhost:8080/",
          "height": 34
        },
        "outputId": "10a0d758-1fb3-4b17-95c9-16b42748aff8"
      },
      "source": [
        "s_mults = mult_array(x, create_array)\n",
        "calc_integral(0.1, y, s_mults)"
      ],
      "execution_count": 18,
      "outputs": [
        {
          "output_type": "execute_result",
          "data": {
            "text/plain": [
              "0.25"
            ]
          },
          "metadata": {
            "tags": []
          },
          "execution_count": 18
        }
      ]
    },
    {
      "cell_type": "markdown",
      "metadata": {
        "id": "PGzNUcigwW8v",
        "colab_type": "text"
      },
      "source": [
        "Here, I stored the mutlipliers in a variable ```s_mults``` to pass to the function, and gave it the interval length of 0.1\n",
        "\n",
        "The integral of $x^3$ from 0 to 1 is 0.25, so in this case, Simpson's Rule has returned the exact answer, in the precision of the returned value by the computer. What's stored in memory is likely not the exact answer, so just keep this in mind.\n",
        "\n",
        "We can now combine these functions into a single function to intake the points (or offsets) and return the area. Keep in mind that in the case of offsets, the returned area will need to be multiplied by 2. You should specify what the function will return in the function's documentation."
      ]
    },
    {
      "cell_type": "code",
      "metadata": {
        "id": "y-LFGt9xwGx_",
        "colab_type": "code",
        "colab": {}
      },
      "source": [
        "def simpsons_first_rule(offsets, L):\n",
        "  ''' Use Simpson's First Rule to integrate the supplied points (offset) over the domain L.\n",
        "  Inputs\n",
        "  ------\n",
        "  Offsets: 1D array -- array of points comprising the shape to be integrated\n",
        "  L: float -- length of the domain. \n",
        "\n",
        "  Output\n",
        "  ------\n",
        "  area: The result of the integral. This value must be multiplied by two for ship applications.\n",
        "  '''\n",
        "  import numpy as np\n",
        "\n",
        "  y = np.asarray(offsets)     # Convert to array in case the user passes a list\n",
        "  n_points = len(y)\n",
        "  if (n_points - 1) % 2 != 0:\n",
        "    print('Odd number of intervals. Please pass an array with an even number of intervals (odd number of points).')\n",
        "    return\n",
        "    # Return statement breaks out of the function if there are an odd number of intervals\n",
        "  h = L/(n_points - 1)              # Length of each interval\n",
        "  n_rows = (y.shape[0] -1) // 2     # Get the number of rows for the zeros matrix\n",
        "  n_cols = n_points                 # Refactor\n",
        "\n",
        "  zero_matrix = np.zeros((n_rows, n_cols))\n",
        "  mults = np.array([1., 4., 1.])\n",
        "  for i in range(n_rows):\n",
        "    for j in range(mults.shape[0]):\n",
        "      zero_matrix[i, 2*i + j] = mults[j]\n",
        "\n",
        "  simps_mults = zero_matrix.sum(axis=0)\n",
        "\n",
        "  area = h/3 * np.sum(y*simps_mults)\n",
        "  \n",
        "  return area\n",
        "\n"
      ],
      "execution_count": 0,
      "outputs": []
    },
    {
      "cell_type": "markdown",
      "metadata": {
        "id": "DMGzc5kbO1Yt",
        "colab_type": "text"
      },
      "source": [
        "You can see that all the functionality of the previous individual functions are there. It's possible to write a function that calls other functions as you've seen, but you want to choose the coding style that makes the code the most readable. For a short function like this, it's best to keep it all under one roof. That way, the reader can trace the code from start to finish easily and understand what's going on under the hood. Writing documentation and comments is also important for code readibility. If a piece of code is confusing, it's best to add comments and add \"stuff\" to the code than to leave the comment out and confuse the reader. Passing a function to a function and calling from within the function is slick, and it can make the code more readable, but the reader has to keep track of which function has been passed in and when it is called."
      ]
    },
    {
      "cell_type": "code",
      "metadata": {
        "id": "yjMQo2luOzuq",
        "colab_type": "code",
        "colab": {
          "base_uri": "https://localhost:8080/",
          "height": 34
        },
        "outputId": "59415a49-7a44-40de-f050-391ffff80710"
      },
      "source": [
        "simpsons_first_rule(y, 1.)"
      ],
      "execution_count": 22,
      "outputs": [
        {
          "output_type": "execute_result",
          "data": {
            "text/plain": [
              "0.25"
            ]
          },
          "metadata": {
            "tags": []
          },
          "execution_count": 22
        }
      ]
    },
    {
      "cell_type": "markdown",
      "metadata": {
        "id": "GfsBoclbYrzT",
        "colab_type": "text"
      },
      "source": [
        "We can see that this gives the correct result.\n",
        "\n",
        "Say that you wanted to compute the transverse moment of inertia at the waterplane for a ship. Let's use a barge so that we can verify the results. For a rectangle of breadth ```b``` and length ```h```, the moment of inertia, or second moment of area, about an axis bisecting the rectangle through the breadth is $I_{bb} = \\frac{bh^3}{12}$. For an infinitessimal rectangle, the moment of inertia about an axis __through the bottom of the rectangle (y = 0)__ is \n",
        "\n",
        "$$dI = \\frac{y^3}{3}dx$$\n",
        "\n",
        "In Naval Architecture, _y_ is the offset, or half-breadth distance of the hull from centerline. The x-direction is the longitudinal axis, and so you must integrate along the length of the waterline.\n",
        "\n",
        "to use Simpson's rule in order to integrate this, we must take our half-breadth offsets, cube them, divide by three, and then pass that array to the function above remembering to multiply by 2 either before or after the result comes back from the function. \n",
        "\n",
        "Let's say the barge is 10 meters long and 2.5 meters in breadth. The transverse moment of inertia is therefore:\n",
        "\n",
        "$$I_T = \\frac{10m * (2.5m)^3}{12} = 13.02m^4$$\n",
        "\n",
        "Let's prepare an array to pass to ```simpsons_first_rule```. We want all the offsets to be 1.25 (the half-breadth). We can choose how many there are. Let's do one every meter, beginning at the forward perpendicular and ending at the aft perpendicular. We want 11 points total, so that there are 10 intervals. Conveniently, we can use Numpy's ```ones``` function, which returns an array of ones of a specified shape. We'll just tell it to give us 11 points. We will then mutliply the array by 1.25 to give us the offsets we want."
      ]
    },
    {
      "cell_type": "code",
      "metadata": {
        "id": "1DiNaWf6X49d",
        "colab_type": "code",
        "colab": {
          "base_uri": "https://localhost:8080/",
          "height": 34
        },
        "outputId": "f2efe8d9-a47f-4676-a5a8-048415c59b7a"
      },
      "source": [
        "offsets = np.ones(11)*1.25\n",
        "offsets"
      ],
      "execution_count": 29,
      "outputs": [
        {
          "output_type": "execute_result",
          "data": {
            "text/plain": [
              "array([1.25, 1.25, 1.25, 1.25, 1.25, 1.25, 1.25, 1.25, 1.25, 1.25, 1.25])"
            ]
          },
          "metadata": {
            "tags": []
          },
          "execution_count": 29
        }
      ]
    },
    {
      "cell_type": "markdown",
      "metadata": {
        "id": "crDvHjB3eRA4",
        "colab_type": "text"
      },
      "source": [
        "Continuing with our data preprocessing, we need to cube the values, and then divide by three. Let's multiply by 2 before passing it in to the function, so we will actually multiply by two-thirds."
      ]
    },
    {
      "cell_type": "code",
      "metadata": {
        "id": "k4iimQexdlCt",
        "colab_type": "code",
        "colab": {
          "base_uri": "https://localhost:8080/",
          "height": 68
        },
        "outputId": "3fd75987-fef6-40ca-b154-e4cfbc88ea0d"
      },
      "source": [
        "offsets = offsets**3\n",
        "offsets *= 2/3\n",
        "offsets"
      ],
      "execution_count": 30,
      "outputs": [
        {
          "output_type": "execute_result",
          "data": {
            "text/plain": [
              "array([1.30208333, 1.30208333, 1.30208333, 1.30208333, 1.30208333,\n",
              "       1.30208333, 1.30208333, 1.30208333, 1.30208333, 1.30208333,\n",
              "       1.30208333])"
            ]
          },
          "metadata": {
            "tags": []
          },
          "execution_count": 30
        }
      ]
    },
    {
      "cell_type": "markdown",
      "metadata": {
        "id": "YuGOlnTpejzy",
        "colab_type": "text"
      },
      "source": [
        "In Python (and many other languages), ```offsets *= 2/3``` is shorthand for ```offsets = offsets * 2/3```. We are now ready to pass the information to ```simsons_first_rule```."
      ]
    },
    {
      "cell_type": "code",
      "metadata": {
        "id": "wy9zCsgGefwy",
        "colab_type": "code",
        "colab": {
          "base_uri": "https://localhost:8080/",
          "height": 34
        },
        "outputId": "66016689-06d9-468c-9d33-34bcc11a804b"
      },
      "source": [
        "simpsons_first_rule(offsets, 10)"
      ],
      "execution_count": 31,
      "outputs": [
        {
          "output_type": "execute_result",
          "data": {
            "text/plain": [
              "13.020833333333332"
            ]
          },
          "metadata": {
            "tags": []
          },
          "execution_count": 31
        }
      ]
    },
    {
      "cell_type": "markdown",
      "metadata": {
        "id": "QTyQQZ9jfnpe",
        "colab_type": "text"
      },
      "source": [
        "We can see that we obtained the expected result. We actually never checked that our function would break and print the error message if the input array had the wrong shape. Let's test that now. If the number of points is even, the function should print the message and return nothing, which simply exits out of the function and doesn't execute any more of the code."
      ]
    },
    {
      "cell_type": "code",
      "metadata": {
        "id": "WnGKAwWHh_gW",
        "colab_type": "code",
        "colab": {
          "base_uri": "https://localhost:8080/",
          "height": 34
        },
        "outputId": "06bed7fd-a035-4530-e797-8c9916af8221"
      },
      "source": [
        "test = np.array([1., 2., 3., 4.])\n",
        "simpsons_first_rule(test, 1)"
      ],
      "execution_count": 36,
      "outputs": [
        {
          "output_type": "stream",
          "text": [
            "Odd number of intervals. Please pass an array with an even number of intervals (odd number of points).\n"
          ],
          "name": "stdout"
        }
      ]
    },
    {
      "cell_type": "markdown",
      "metadata": {
        "id": "CqyQdtxniRnC",
        "colab_type": "text"
      },
      "source": [
        "This works as expected."
      ]
    },
    {
      "cell_type": "code",
      "metadata": {
        "id": "VaetfN4JiVKO",
        "colab_type": "code",
        "colab": {}
      },
      "source": [
        ""
      ],
      "execution_count": 0,
      "outputs": []
    }
  ]
}